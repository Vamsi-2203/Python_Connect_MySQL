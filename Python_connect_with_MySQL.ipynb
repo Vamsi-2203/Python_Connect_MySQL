{
 "cells": [
  {
   "cell_type": "code",
   "execution_count": null,
   "id": "bdba3edb",
   "metadata": {},
   "outputs": [],
   "source": [
    "!pip install mysql-connector #first installation\n",
    "!pip install --upgrade mysql-connector-python #if your get in authentication-plugin\n",
    "\n",
    "# open mysql command line client\n",
    "#mysql -u root -p\n",
    "#ALTER USER 'your_username'@'your_host' IDENTIFIED WITH mysql_native_password BY 'your_password'; FLUSH PRIVILEGES;\n",
    "\n",
    "#restart your jupyter\n",
    "\n"
   ]
  },
  {
   "cell_type": "code",
   "execution_count": 8,
   "id": "b21b5cf0",
   "metadata": {},
   "outputs": [],
   "source": [
    "import mysql.connector"
   ]
  },
  {
   "cell_type": "code",
   "execution_count": 9,
   "id": "fdd6b92f",
   "metadata": {},
   "outputs": [],
   "source": [
    "import pandas as pd\n",
    "import matplotlib.pyplot as plt\n",
    "import warnings\n",
    "warnings.filterwarnings('ignore')"
   ]
  },
  {
   "cell_type": "code",
   "execution_count": 10,
   "id": "07ad93c7",
   "metadata": {},
   "outputs": [
    {
     "name": "stdout",
     "output_type": "stream",
     "text": [
      "<mysql.connector.connection_cext.CMySQLConnection object at 0x000001CD114C0B50>\n"
     ]
    }
   ],
   "source": [
    "db = mysql.connector.connect(\n",
    "    host = \"localhost\",\n",
    "    user = \"root\",\n",
    "    password = \"Workday@16\",\n",
    "    database = \"python_mysql\"\n",
    ")\n",
    "\n",
    "mycursor = db.cursor()\n",
    "\n",
    "print(db)"
   ]
  },
  {
   "cell_type": "code",
   "execution_count": 11,
   "id": "876873d3",
   "metadata": {},
   "outputs": [
    {
     "name": "stdout",
     "output_type": "stream",
     "text": [
      "(1, 'Aarav', 'Sharma', datetime.date(2001, 1, 15), 'Male', '123 MG Road, Bengaluru', '9876543210', 'aarav.sharma@example.com', datetime.date(2022, 9, 1), 'Computer Science')\n",
      "(2, 'Aisha', 'Patel', datetime.date(2002, 2, 25), 'Female', '456 GT Road, Ahmedabad', '8765432109', 'aisha.patel@example.com', datetime.date(2022, 9, 1), 'Biology')\n",
      "(3, 'Raj', 'Kumar', datetime.date(2003, 3, 5), 'Male', '789 Lodhi Colony, New Delhi', '7654321098', 'raj.kumar@example.com', datetime.date(2022, 9, 1), 'Business Administration')\n",
      "(4, 'Ananya', 'Rao', datetime.date(2000, 4, 10), 'Female', '101 Brigade Road, Bengaluru', '6543210987', 'ananya.rao@example.com', datetime.date(2022, 9, 1), 'Engineering')\n",
      "(5, 'Rohan', 'Singh', datetime.date(2001, 5, 20), 'Male', '202 Nehru Place, Mumbai', '5432109876', 'rohan.singh@example.com', datetime.date(2022, 9, 1), 'Chemistry')\n",
      "(6, 'Sneha', 'Gupta', datetime.date(2002, 6, 30), 'Female', '303 Juhu Beach, Mumbai', '4321098765', 'sneha.gupta@example.com', datetime.date(2022, 9, 1), 'Physics')\n",
      "(7, 'Karan', 'Verma', datetime.date(2001, 7, 15), 'Male', '404 MG Road, Pune', '3210987654', 'karan.verma@example.com', datetime.date(2022, 9, 1), 'Mathematics')\n",
      "(8, 'Pooja', 'Mehta', datetime.date(2003, 8, 20), 'Female', '505 Salt Lake, Kolkata', '2109876543', 'pooja.mehta@example.com', datetime.date(2022, 9, 1), 'Political Science')\n",
      "(9, 'Arjun', 'Desai', datetime.date(2000, 9, 10), 'Male', '606 Kormangala, Bengaluru', '1098765432', 'arjun.desai@example.com', datetime.date(2022, 9, 1), 'Economics')\n",
      "(10, 'Nidhi', 'Joshi', datetime.date(2002, 10, 25), 'Female', '707 Viman Nagar, Pune', '9876543211', 'nidhi.joshi@example.com', datetime.date(2022, 9, 1), 'Psychology')\n",
      "(11, 'Ishaan', 'Nair', datetime.date(2001, 11, 5), 'Male', '808 Khar, Mumbai', '8765432110', 'ishaan.nair@example.com', datetime.date(2022, 9, 1), 'History')\n",
      "(12, 'Sanya', 'Menon', datetime.date(2003, 12, 12), 'Female', '909 Fort, Mumbai', '7654322109', 'sanya.menon@example.com', datetime.date(2022, 9, 1), 'English')\n",
      "(13, 'Raghav', 'Chopra', datetime.date(2000, 1, 22), 'Male', '1010 Cyber City, Gurgaon', '6543212108', 'raghav.chopra@example.com', datetime.date(2022, 9, 1), 'Physics')\n",
      "(14, 'Kavya', 'Shah', datetime.date(2002, 2, 14), 'Female', '1111 Bandra, Mumbai', '5432109871', 'kavya.shah@example.com', datetime.date(2022, 9, 1), 'Sociology')\n",
      "(15, 'Yash', 'Aggarwal', datetime.date(2001, 3, 30), 'Male', '1212 Indiranagar, Bengaluru', '4321098762', 'yash.aggarwal@example.com', datetime.date(2022, 9, 1), 'Law')\n",
      "(16, 'Meera', 'Khan', datetime.date(2003, 4, 21), 'Female', '1313 Jayanagar, Bengaluru', '3210987653', 'meera.khan@example.com', datetime.date(2022, 9, 1), 'Economics')\n",
      "(17, 'Aditya', 'Kapoor', datetime.date(2000, 5, 15), 'Male', '1414 Andheri, Mumbai', '2109876544', 'aditya.kapoor@example.com', datetime.date(2022, 9, 1), 'Political Science')\n",
      "(18, 'Priya', 'Dixit', datetime.date(2002, 6, 11), 'Female', '1515 Powai, Mumbai', '1098765435', 'priya.dixit@example.com', datetime.date(2022, 9, 1), 'Computer Science')\n",
      "(19, 'Ravi', 'Yadav', datetime.date(2001, 7, 7), 'Male', '1616 Whitefield, Bengaluru', '9876543212', 'ravi.yadav@example.com', datetime.date(2022, 9, 1), 'Mathematics')\n",
      "(20, 'Anjali', 'Bhatt', datetime.date(2003, 8, 2), 'Female', '1717 BTM Layout, Bengaluru', '8765432121', 'anjali.bhatt@example.com', datetime.date(2022, 9, 1), 'Biology')\n",
      "(21, 'Amit', 'Agarwal', datetime.date(2000, 9, 29), 'Male', '1818 Park Street, Kolkata', '7654321099', 'amit.agarwal@example.com', datetime.date(2022, 9, 1), 'Business Administration')\n",
      "(22, 'Neha', 'Reddy', datetime.date(2002, 10, 20), 'Female', '1919 Jubilee Hills, Hyderabad', '6543210988', 'neha.reddy@example.com', datetime.date(2022, 9, 1), 'Chemistry')\n",
      "(23, 'Siddharth', 'Malhotra', datetime.date(2001, 11, 11), 'Male', '2020 Banjara Hills, Hyderabad', '5432109877', 'siddharth.malhotra@example.com', datetime.date(2022, 9, 1), 'Engineering')\n",
      "(24, 'Tara', 'Sen', datetime.date(2003, 12, 15), 'Female', '2121 Ballygunge, Kolkata', '4321098766', 'tara.sen@example.com', datetime.date(2022, 9, 1), 'Physics')\n",
      "(25, 'Rishi', 'Bose', datetime.date(2000, 1, 27), 'Male', '2222 Gariahat, Kolkata', '3210987652', 'rishi.bose@example.com', datetime.date(2022, 9, 1), 'Mathematics')\n",
      "(26, 'Simran', 'Das', datetime.date(2002, 2, 18), 'Female', '2323 Salt Lake, Kolkata', '2109876541', 'simran.das@example.com', datetime.date(2022, 9, 1), 'Political Science')\n",
      "(27, 'Harsh', 'Ghosh', datetime.date(2001, 3, 22), 'Male', '2424 Dum Dum, Kolkata', '1098765433', 'harsh.ghosh@example.com', datetime.date(2022, 9, 1), 'Economics')\n",
      "(28, 'Rhea', 'Mishra', datetime.date(2003, 4, 28), 'Female', '2525 Alipore, Kolkata', '9876543213', 'rhea.mishra@example.com', datetime.date(2022, 9, 1), 'Psychology')\n",
      "(29, 'Vikram', 'Joshi', datetime.date(2000, 5, 18), 'Male', '2626 Salt Lake, Kolkata', '8765432101', 'vikram.joshi@example.com', datetime.date(2022, 9, 1), 'History')\n",
      "(30, 'Alia', 'Dasgupta', datetime.date(2002, 6, 13), 'Female', '2727 Lake Town, Kolkata', '7654321987', 'alia.dasgupta@example.com', datetime.date(2022, 9, 1), 'English')\n",
      "(31, 'Manish', 'Roy', datetime.date(2001, 7, 19), 'Male', '2828 Howrah, Kolkata', '6543210876', 'manish.roy@example.com', datetime.date(2022, 9, 1), 'Physics')\n",
      "(32, 'Kiran', 'Mukherjee', datetime.date(2003, 8, 24), 'Female', '2929 Park Street, Kolkata', '5432109765', 'kiran.mukherjee@example.com', datetime.date(2022, 9, 1), 'Sociology')\n",
      "(33, 'Rajesh', 'Saha', datetime.date(2000, 9, 11), 'Male', '3030 Salt Lake, Kolkata', '4321098654', 'rajesh.saha@example.com', datetime.date(2022, 9, 1), 'Law')\n",
      "(34, 'Lakshmi', 'Banerjee', datetime.date(2002, 10, 16), 'Female', '3131 New Town, Kolkata', '3210987543', 'lakshmi.banerjee@example.com', datetime.date(2022, 9, 1), 'Economics')\n",
      "(35, 'Vivek', 'Mukherjee', datetime.date(2001, 11, 27), 'Male', '3232 Behala, Kolkata', '2109876432', 'vivek.mukherjee@example.com', datetime.date(2022, 9, 1), 'Political Science')\n",
      "(36, 'Nikita', 'Sen', datetime.date(2003, 12, 18), 'Female', '3333 Ballygunge, Kolkata', '1098765321', 'nikita.sen@example.com', datetime.date(2022, 9, 1), 'Computer Science')\n"
     ]
    }
   ],
   "source": [
    "mycursor.execute(\"Select * from students\")\n",
    "\n",
    "output = mycursor.fetchall()\n",
    "\n",
    "for x in output:\n",
    "    print(x)"
   ]
  },
  {
   "cell_type": "code",
   "execution_count": 12,
   "id": "6894726a",
   "metadata": {},
   "outputs": [],
   "source": [
    "query = \"select * from students\"\n",
    "\n",
    "data = pd.read_sql(query,db)"
   ]
  },
  {
   "cell_type": "code",
   "execution_count": 13,
   "id": "d4f05a03",
   "metadata": {},
   "outputs": [
    {
     "data": {
      "text/html": [
       "<div>\n",
       "<style scoped>\n",
       "    .dataframe tbody tr th:only-of-type {\n",
       "        vertical-align: middle;\n",
       "    }\n",
       "\n",
       "    .dataframe tbody tr th {\n",
       "        vertical-align: top;\n",
       "    }\n",
       "\n",
       "    .dataframe thead th {\n",
       "        text-align: right;\n",
       "    }\n",
       "</style>\n",
       "<table border=\"1\" class=\"dataframe\">\n",
       "  <thead>\n",
       "    <tr style=\"text-align: right;\">\n",
       "      <th></th>\n",
       "      <th>StudentID</th>\n",
       "      <th>FirstName</th>\n",
       "      <th>LastName</th>\n",
       "      <th>DateOfBirth</th>\n",
       "      <th>Gender</th>\n",
       "      <th>Address</th>\n",
       "      <th>PhoneNumber</th>\n",
       "      <th>Email</th>\n",
       "      <th>EnrollmentDate</th>\n",
       "      <th>Major</th>\n",
       "    </tr>\n",
       "  </thead>\n",
       "  <tbody>\n",
       "    <tr>\n",
       "      <th>0</th>\n",
       "      <td>1</td>\n",
       "      <td>Aarav</td>\n",
       "      <td>Sharma</td>\n",
       "      <td>2001-01-15</td>\n",
       "      <td>Male</td>\n",
       "      <td>123 MG Road, Bengaluru</td>\n",
       "      <td>9876543210</td>\n",
       "      <td>aarav.sharma@example.com</td>\n",
       "      <td>2022-09-01</td>\n",
       "      <td>Computer Science</td>\n",
       "    </tr>\n",
       "    <tr>\n",
       "      <th>1</th>\n",
       "      <td>2</td>\n",
       "      <td>Aisha</td>\n",
       "      <td>Patel</td>\n",
       "      <td>2002-02-25</td>\n",
       "      <td>Female</td>\n",
       "      <td>456 GT Road, Ahmedabad</td>\n",
       "      <td>8765432109</td>\n",
       "      <td>aisha.patel@example.com</td>\n",
       "      <td>2022-09-01</td>\n",
       "      <td>Biology</td>\n",
       "    </tr>\n",
       "    <tr>\n",
       "      <th>2</th>\n",
       "      <td>3</td>\n",
       "      <td>Raj</td>\n",
       "      <td>Kumar</td>\n",
       "      <td>2003-03-05</td>\n",
       "      <td>Male</td>\n",
       "      <td>789 Lodhi Colony, New Delhi</td>\n",
       "      <td>7654321098</td>\n",
       "      <td>raj.kumar@example.com</td>\n",
       "      <td>2022-09-01</td>\n",
       "      <td>Business Administration</td>\n",
       "    </tr>\n",
       "    <tr>\n",
       "      <th>3</th>\n",
       "      <td>4</td>\n",
       "      <td>Ananya</td>\n",
       "      <td>Rao</td>\n",
       "      <td>2000-04-10</td>\n",
       "      <td>Female</td>\n",
       "      <td>101 Brigade Road, Bengaluru</td>\n",
       "      <td>6543210987</td>\n",
       "      <td>ananya.rao@example.com</td>\n",
       "      <td>2022-09-01</td>\n",
       "      <td>Engineering</td>\n",
       "    </tr>\n",
       "    <tr>\n",
       "      <th>4</th>\n",
       "      <td>5</td>\n",
       "      <td>Rohan</td>\n",
       "      <td>Singh</td>\n",
       "      <td>2001-05-20</td>\n",
       "      <td>Male</td>\n",
       "      <td>202 Nehru Place, Mumbai</td>\n",
       "      <td>5432109876</td>\n",
       "      <td>rohan.singh@example.com</td>\n",
       "      <td>2022-09-01</td>\n",
       "      <td>Chemistry</td>\n",
       "    </tr>\n",
       "  </tbody>\n",
       "</table>\n",
       "</div>"
      ],
      "text/plain": [
       "   StudentID FirstName LastName DateOfBirth  Gender  \\\n",
       "0          1     Aarav   Sharma  2001-01-15    Male   \n",
       "1          2     Aisha    Patel  2002-02-25  Female   \n",
       "2          3       Raj    Kumar  2003-03-05    Male   \n",
       "3          4    Ananya      Rao  2000-04-10  Female   \n",
       "4          5     Rohan    Singh  2001-05-20    Male   \n",
       "\n",
       "                       Address PhoneNumber                     Email  \\\n",
       "0       123 MG Road, Bengaluru  9876543210  aarav.sharma@example.com   \n",
       "1       456 GT Road, Ahmedabad  8765432109   aisha.patel@example.com   \n",
       "2  789 Lodhi Colony, New Delhi  7654321098     raj.kumar@example.com   \n",
       "3  101 Brigade Road, Bengaluru  6543210987    ananya.rao@example.com   \n",
       "4      202 Nehru Place, Mumbai  5432109876   rohan.singh@example.com   \n",
       "\n",
       "  EnrollmentDate                    Major  \n",
       "0     2022-09-01         Computer Science  \n",
       "1     2022-09-01                  Biology  \n",
       "2     2022-09-01  Business Administration  \n",
       "3     2022-09-01              Engineering  \n",
       "4     2022-09-01                Chemistry  "
      ]
     },
     "execution_count": 13,
     "metadata": {},
     "output_type": "execute_result"
    }
   ],
   "source": [
    "data.head()"
   ]
  },
  {
   "cell_type": "code",
   "execution_count": 14,
   "id": "6b5fca20",
   "metadata": {},
   "outputs": [
    {
     "data": {
      "text/plain": [
       "(36, 10)"
      ]
     },
     "execution_count": 14,
     "metadata": {},
     "output_type": "execute_result"
    }
   ],
   "source": [
    "data.shape"
   ]
  },
  {
   "cell_type": "code",
   "execution_count": 15,
   "id": "9dfa671f",
   "metadata": {},
   "outputs": [],
   "source": [
    "import seaborn as sns"
   ]
  },
  {
   "cell_type": "code",
   "execution_count": 16,
   "id": "76f00a9b",
   "metadata": {},
   "outputs": [
    {
     "data": {
      "text/plain": [
       "<Axes: xlabel='Gender', ylabel='count'>"
      ]
     },
     "execution_count": 16,
     "metadata": {},
     "output_type": "execute_result"
    },
    {
     "data": {
      "image/png": "[encoded data removed]",
      "text/plain": [
       "<Figure size 640x480 with 1 Axes>"
      ]
     },
     "metadata": {},
     "output_type": "display_data"
    }
   ],
   "source": [
    "sns.countplot(data,x=\"Gender\")"
   ]
  },
  {
   "cell_type": "code",
   "execution_count": null,
   "id": "4328eebf",
   "metadata": {},
   "outputs": [],
   "source": []
  },
  {
   "cell_type": "code",
   "execution_count": null,
   "id": "186d0e39",
   "metadata": {},
   "outputs": [],
   "source": []
  },
  {
   "cell_type": "code",
   "execution_count": null,
   "id": "7a841299",
   "metadata": {},
   "outputs": [],
   "source": []
  },
  {
   "cell_type": "code",
   "execution_count": null,
   "id": "b474d9b4",
   "metadata": {},
   "outputs": [],
   "source": []
  },
  {
   "cell_type": "code",
   "execution_count": null,
   "id": "6a7c6db5",
   "metadata": {},
   "outputs": [],
   "source": []
  }
 ],
 "metadata": {
  "kernelspec": {
   "display_name": "Python 3 (ipykernel)",
   "language": "python",
   "name": "python3"
  },
  "language_info": {
   "codemirror_mode": {
    "name": "ipython",
    "version": 3
   },
   "file_extension": ".py",
   "mimetype": "text/x-python",
   "name": "python",
   "nbconvert_exporter": "python",
   "pygments_lexer": "ipython3",
   "version": "3.11.5"
  }
 },
 "nbformat": 4,
 "nbformat_minor": 5
}
